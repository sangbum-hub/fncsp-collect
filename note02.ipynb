{
 "cells": [
  {
   "cell_type": "code",
   "execution_count": 10,
   "metadata": {},
   "outputs": [],
   "source": [
    "import pymysql\n",
    "from datetime import datetime\n",
    "from elasticsearch import Elasticsearch\n",
    "from tqdm.notebook import tqdm\n",
    "import json"
   ]
  },
  {
   "cell_type": "code",
   "execution_count": 11,
   "metadata": {},
   "outputs": [],
   "source": [
    "with open(\"./envs.json\",\"r\",encoding=\"utf8\") as f:\n",
    "    envs = json.load(f)"
   ]
  },
  {
   "cell_type": "code",
   "execution_count": 12,
   "metadata": {},
   "outputs": [],
   "source": [
    "es = Elasticsearch(\n",
    "    hosts=envs['es_host'],\n",
    "    port=envs['es_port'],\n",
    "    http_auth=(envs['es_user'],envs['es_password']),\n",
    "    timeout=envs['es_timeout'],\n",
    "    max_retries=envs['es_max_retries']\n",
    ")"
   ]
  },
  {
   "cell_type": "code",
   "execution_count": 13,
   "metadata": {},
   "outputs": [],
   "source": [
    "data_types = [\n",
    "    \"naver_news\",\n",
    "    \"naver_blog\",\n",
    "    \"naver_cafe\",\n",
    "    \"jobplanet_statistic\",\n",
    "    \"jobplanet_review\",\n",
    "    \"jobplanet_premium\",\n",
    "    \"saramin\",\n",
    "    \"nice_biz_info\",\n",
    "    \"kisti_article\",\n",
    "    \"kisti_patent\",\n",
    "    \"kci\",\n",
    "    \"ntis_assign\",\n",
    "    \"ntis_accomp\",\n",
    "    \"ntis_rnd_paper\",\n",
    "    \"ntis_org_info\",\n",
    "    \"naver_trend\",\n",
    "]"
   ]
  },
  {
   "cell_type": "code",
   "execution_count": 14,
   "metadata": {},
   "outputs": [
    {
     "data": {
      "text/plain": [
       "{'took': 1,\n",
       " 'timed_out': False,\n",
       " '_shards': {'total': 6, 'successful': 6, 'skipped': 0, 'failed': 0},\n",
       " 'hits': {'total': {'value': 719207, 'relation': 'eq'},\n",
       "  'max_score': None,\n",
       "  'hits': []}}"
      ]
     },
     "execution_count": 14,
     "metadata": {},
     "output_type": "execute_result"
    }
   ],
   "source": [
    "es.search(\n",
    "    index=\"source_data\", \n",
    "    query={\n",
    "        \"bool\":{\n",
    "            \"must\":[\n",
    "                {\"match\":{\"DataType\":\"naver_news\"}}\n",
    "            ]\n",
    "        }\n",
    "    },\n",
    "    track_total_hits=True,\n",
    "    size=0\n",
    ")"
   ]
  },
  {
   "cell_type": "code",
   "execution_count": 15,
   "metadata": {},
   "outputs": [],
   "source": [
    "results = []\n",
    "for data_type in data_types:\n",
    "    res = es.search(\n",
    "        index=\"source_data\", \n",
    "        query={\n",
    "            \"bool\":{\n",
    "                \"must\":[\n",
    "                    {\"match\":{\"DataType\":data_type}}\n",
    "                ]\n",
    "            }\n",
    "        },\n",
    "        track_total_hits=True,\n",
    "        size=0\n",
    "    )\n",
    "    results.append((data_type, res['hits']['total']['value']))\n"
   ]
  },
  {
   "cell_type": "code",
   "execution_count": 16,
   "metadata": {},
   "outputs": [
    {
     "data": {
      "text/plain": [
       "[('naver_news', 719207),\n",
       " ('naver_blog', 157036382),\n",
       " ('naver_cafe', 58943899),\n",
       " ('jobplanet_statistic', 238863),\n",
       " ('jobplanet_review', 524034),\n",
       " ('jobplanet_premium', 498284),\n",
       " ('saramin', 423435),\n",
       " ('nice_biz_info', 1029115),\n",
       " ('kisti_article', 319958),\n",
       " ('kisti_patent', 13958826),\n",
       " ('kci', 11687771),\n",
       " ('ntis_assign', 1512609),\n",
       " ('ntis_accomp', 822889),\n",
       " ('ntis_rnd_paper', 725983),\n",
       " ('ntis_org_info', 565054),\n",
       " ('naver_trend', 668835)]"
      ]
     },
     "execution_count": 16,
     "metadata": {},
     "output_type": "execute_result"
    }
   ],
   "source": [
    "results"
   ]
  },
  {
   "cell_type": "code",
   "execution_count": 17,
   "metadata": {},
   "outputs": [],
   "source": [
    "results = []\n",
    "for data_type in data_types:\n",
    "    res = es.search(\n",
    "        index=\"source_data\", \n",
    "        query={\n",
    "            \"bool\":{\n",
    "                \"must\":[\n",
    "                    {\"match\":{\"DataType\":data_type}}\n",
    "                ],\n",
    "                \"filter\":[\n",
    "                    {\n",
    "                        \"range\":{\n",
    "                            \"SearchDate\":{\n",
    "                                \"gte\":\"2023-10-12\",\n",
    "                                \"format\":\"yyyy-MM-dd\"\n",
    "                            }\n",
    "                        }\n",
    "                    }\n",
    "                ]\n",
    "            }\n",
    "        },\n",
    "        track_total_hits=True,\n",
    "        size=0\n",
    "    )\n",
    "    results.append((data_type, res['hits']['total']['value']))\n"
   ]
  },
  {
   "cell_type": "code",
   "execution_count": 18,
   "metadata": {},
   "outputs": [
    {
     "data": {
      "text/plain": [
       "[('naver_news', 646),\n",
       " ('naver_blog', 0),\n",
       " ('naver_cafe', 0),\n",
       " ('jobplanet_statistic', 0),\n",
       " ('jobplanet_review', 0),\n",
       " ('jobplanet_premium', 0),\n",
       " ('saramin', 0),\n",
       " ('nice_biz_info', 0),\n",
       " ('kisti_article', 0),\n",
       " ('kisti_patent', 0),\n",
       " ('kci', 0),\n",
       " ('ntis_assign', 0),\n",
       " ('ntis_accomp', 0),\n",
       " ('ntis_rnd_paper', 0),\n",
       " ('ntis_org_info', 0),\n",
       " ('naver_trend', 0)]"
      ]
     },
     "execution_count": 18,
     "metadata": {},
     "output_type": "execute_result"
    }
   ],
   "source": [
    "results"
   ]
  }
 ],
 "metadata": {
  "kernelspec": {
   "display_name": "Python 3.8.13 ('crawl3')",
   "language": "python",
   "name": "python3"
  },
  "language_info": {
   "codemirror_mode": {
    "name": "ipython",
    "version": 3
   },
   "file_extension": ".py",
   "mimetype": "text/x-python",
   "name": "python",
   "nbconvert_exporter": "python",
   "pygments_lexer": "ipython3",
   "version": "3.9.13"
  },
  "orig_nbformat": 4,
  "vscode": {
   "interpreter": {
    "hash": "ae36f8e7cd39962888690e104335b3f16db77a09743b9c4bc2f4f1f9d5264684"
   }
  }
 },
 "nbformat": 4,
 "nbformat_minor": 2
}
