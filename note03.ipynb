{
 "cells": [
  {
   "cell_type": "code",
   "execution_count": 27,
   "metadata": {},
   "outputs": [],
   "source": [
    "import pymysql\n",
    "from datetime import datetime\n",
    "from elasticsearch import Elasticsearch\n",
    "from tqdm.notebook import tqdm\n",
    "import json\n",
    "import os"
   ]
  },
  {
   "cell_type": "code",
   "execution_count": 3,
   "metadata": {},
   "outputs": [],
   "source": [
    "def get_json(path):\n",
    "    with open(path,\"r\",encoding=\"utf8\") as f:\n",
    "        text = f.read()\n",
    "    text = text[2:]\n",
    "    text = f\"[{text}]\"\n",
    "    datas = json.loads(text)\n",
    "    return datas"
   ]
  },
  {
   "cell_type": "code",
   "execution_count": 13,
   "metadata": {},
   "outputs": [],
   "source": [
    "datas = []\n",
    "for fld in list(filter(lambda o: int(o)>=20230414, os.listdir(\"./data_files\"))):\n",
    "    tmp = list(filter(lambda o: \"jobplanet\" in o, os.listdir(f\"./data_files/{fld}\")))\n",
    "    if len(tmp) < 1:\n",
    "        continue\n",
    "    datas.extend(get_json(f\"./data_files/{fld}/{tmp[0]}\"))"
   ]
  },
  {
   "cell_type": "code",
   "execution_count": 14,
   "metadata": {},
   "outputs": [],
   "source": [
    "datas = list(filter(lambda o: o['Data'] is not None, datas))"
   ]
  },
  {
   "cell_type": "code",
   "execution_count": 15,
   "metadata": {},
   "outputs": [],
   "source": [
    "with open(\"./envs.json\",\"r\",encoding=\"utf8\") as f:\n",
    "    envs = json.load(f)"
   ]
  },
  {
   "cell_type": "code",
   "execution_count": 16,
   "metadata": {},
   "outputs": [],
   "source": [
    "filtered_data = list(filter(lambda o: o['DataType'] == \"jobplanet_statistic\", datas))\n",
    "filtered_data.extend(list(filter(lambda o: len(o['Data'])>0, list(filter(lambda o: o['DataType'] == \"jobplanet_review\", datas)))))"
   ]
  },
  {
   "cell_type": "markdown",
   "metadata": {},
   "source": [
    "# connect ES"
   ]
  },
  {
   "cell_type": "code",
   "execution_count": 17,
   "metadata": {},
   "outputs": [],
   "source": [
    "es = Elasticsearch(\n",
    "    hosts=envs['es_host'],\n",
    "    port=envs['es_port'],\n",
    "    http_auth=(envs['es_user'],envs['es_password']),\n",
    "    timeout=envs['es_timeout'],\n",
    "    max_retries=envs['es_max_retries']\n",
    ")"
   ]
  },
  {
   "cell_type": "code",
   "execution_count": 18,
   "metadata": {},
   "outputs": [],
   "source": [
    "err_list = []\n",
    "sucess_li = []\n",
    "n = 0"
   ]
  },
  {
   "cell_type": "code",
   "execution_count": 19,
   "metadata": {},
   "outputs": [
    {
     "data": {
      "application/vnd.jupyter.widget-view+json": {
       "model_id": "8e5b9cd8b4824c3e9ce8cfa3533a6a16",
       "version_major": 2,
       "version_minor": 0
      },
      "text/plain": [
       "엘라스틱 적재중:   0%|          | 0/3669 [00:00<?, ?it/s]"
      ]
     },
     "metadata": {},
     "output_type": "display_data"
    }
   ],
   "source": [
    "for data in tqdm(datas, desc='엘라스틱 적재중'):\n",
    "    try:\n",
    "        es.index(index=\"source_data\", document=data)\n",
    "        sucess_li.append(data['BusinessNum'])\n",
    "    except Exception as e:\n",
    "        err_list.append((data, e))"
   ]
  },
  {
   "cell_type": "code",
   "execution_count": 20,
   "metadata": {},
   "outputs": [
    {
     "data": {
      "text/plain": [
       "56"
      ]
     },
     "execution_count": 20,
     "metadata": {},
     "output_type": "execute_result"
    }
   ],
   "source": [
    "len(err_list)"
   ]
  },
  {
   "cell_type": "code",
   "execution_count": 21,
   "metadata": {},
   "outputs": [
    {
     "data": {
      "text/plain": [
       "{'took': 848,\n",
       " 'timed_out': False,\n",
       " '_shards': {'total': 6, 'successful': 6, 'skipped': 0, 'failed': 0},\n",
       " 'hits': {'total': {'value': 119851, 'relation': 'eq'},\n",
       "  'max_score': None,\n",
       "  'hits': []}}"
      ]
     },
     "execution_count": 21,
     "metadata": {},
     "output_type": "execute_result"
    }
   ],
   "source": [
    "es.search(\n",
    "    index=\"source_data\",\n",
    "    size=0,\n",
    "    query={\n",
    "        \"bool\":{\n",
    "            \"must\":[\n",
    "                {\"match\":{\"DataType\":\"naver_trend\"}}\n",
    "            ],\n",
    "            \"filter\":[\n",
    "                {\"range\":{\"SearchDate\":{\"gte\":\"2023-04-01\",\"format\":\"yyyy-MM-dd\"}}}\n",
    "            ]\n",
    "        }\n",
    "    },\n",
    "    track_total_hits=True\n",
    ")"
   ]
  },
  {
   "cell_type": "code",
   "execution_count": 22,
   "metadata": {},
   "outputs": [
    {
     "data": {
      "text/plain": [
       "(1010617859,\n",
       " 1018116099,\n",
       " 1010686472,\n",
       " 1018125832,\n",
       " 1018139656,\n",
       " 1010248204,\n",
       " 1018123789,\n",
       " 1018145293,\n",
       " 1018117652,\n",
       " 1010882072,\n",
       " 1018130975,\n",
       " 1018138657,\n",
       " 1011015713,\n",
       " 1018126883,\n",
       " 1018111532,\n",
       " 1018139184,\n",
       " 1018141244,\n",
       " 1018119742,\n",
       " 1018147909,\n",
       " 1018124361,\n",
       " 1010938442,\n",
       " 1018147404,\n",
       " 1018136659,\n",
       " 1018119252,\n",
       " 1010938966,\n",
       " 1018133079,\n",
       " 1011141727,\n",
       " 1018137696,\n",
       " 1010659937,\n",
       " 1018139748,\n",
       " 1018122854,\n",
       " 1018134118,\n",
       " 1018145895,\n",
       " 1018139753,\n",
       " 1018119795,\n",
       " 1010273396,\n",
       " 1018146934,\n",
       " 1018139767,\n",
       " 1011132024,\n",
       " 1018122873,\n",
       " 1010793081,\n",
       " 1018118781,\n",
       " 1018117759,\n",
       " 1018139786,\n",
       " 1018137740,\n",
       " 1018136718,\n",
       " 1018119311,\n",
       " 1018147985,\n",
       " 1010770583,\n",
       " 1018104477,\n",
       " 1018104991,\n",
       " 1018121379,\n",
       " 1018137769,\n",
       " 1010699434,\n",
       " 1018148010,\n",
       " 1018116783,\n",
       " 1018118840,\n",
       " 1018139321,\n",
       " 1010980028,\n",
       " 1018135742,\n",
       " 1018138303,\n",
       " 1018140361,\n",
       " 1018142409,\n",
       " 1010581714,\n",
       " 1018143446,\n",
       " 1010145495,\n",
       " 1010260187,\n",
       " 1010679516,\n",
       " 1010244829,\n",
       " 1018144479,\n",
       " 1010663649,\n",
       " 1018142433,\n",
       " 1018100452,\n",
       " 1018142443,\n",
       " 1010909933,\n",
       " 1010453230,\n",
       " 1018145522,\n",
       " 1018147059,\n",
       " 1010809076,\n",
       " 1013273845,\n",
       " 1018122999,\n",
       " 1018121480,\n",
       " 1018144523,\n",
       " 1018136848,\n",
       " 1010806545,\n",
       " 1018137885,\n",
       " 1011317537,\n",
       " 1018143015,\n",
       " 1018124075,\n",
       " 1018130223,\n",
       " 1018132274,\n",
       " 1018143543,\n",
       " 1018142525,\n",
       " 1018142016,\n",
       " 1018117953,\n",
       " 1012011846,\n",
       " 1018118985,\n",
       " 1018118476,\n",
       " 1018124624,\n",
       " 1018145105,\n",
       " 1018135892,\n",
       " 1018137944,\n",
       " 1018145634,\n",
       " 1018116968,\n",
       " 1018145139,\n",
       " 1018140532,\n",
       " 1018136440,\n",
       " 1010750840,\n",
       " 1018142073,\n",
       " 1018144125,\n",
       " 1018116478,\n",
       " 1018146176,\n",
       " 1018142087,\n",
       " 1018139016,\n",
       " 1018123659,\n",
       " 1018126734,\n",
       " 1018119567,\n",
       " 1018139024,\n",
       " 1018146706,\n",
       " 1011148695,\n",
       " 1018144673,\n",
       " 1018146216,\n",
       " 1018146220,\n",
       " 1018121141,\n",
       " 1018108342,\n",
       " 1018137018,\n",
       " 1010714558,\n",
       " 1013386181,\n",
       " 1010454471,\n",
       " 1010398152,\n",
       " 1010715595,\n",
       " 1010683854,\n",
       " 1018139087,\n",
       " 1018134480,\n",
       " 1018104273,\n",
       " 1010888149,\n",
       " 1018145750,\n",
       " 1018117083,\n",
       " 1018147291,\n",
       " 1018137565,\n",
       " 1018119140,\n",
       " 1018110436,\n",
       " 1018126317,\n",
       " 1018146292,\n",
       " 1013792245,\n",
       " 1010863094)"
      ]
     },
     "execution_count": 22,
     "metadata": {},
     "output_type": "execute_result"
    }
   ],
   "source": [
    "# sucess_li_str = \", \".join([f\"'{item}'\" for item in sucess_li])    # 리스트 데이터를 string형식으로 변환\n",
    "sucess_li = tuple(set(int(item) for item in sucess_li)) # set으로 중복값 제거 후 리스트 튜플로 변환\n",
    "sucess_li"
   ]
  },
  {
   "cell_type": "markdown",
   "metadata": {},
   "source": [
    "# connect mysql"
   ]
  },
  {
   "cell_type": "code",
   "execution_count": 23,
   "metadata": {},
   "outputs": [],
   "source": [
    "# file_name = 'jobplanet_statistic'\n",
    "# file_name = 'jobplanet_review'\n",
    "# file_name = 'jobplanet_premium'\n",
    "\n",
    "file_name = datas[0]['DataType']"
   ]
  },
  {
   "cell_type": "code",
   "execution_count": 24,
   "metadata": {},
   "outputs": [],
   "source": [
    "def get_mysql_conn(my_host, my_user, my_passwd, my_database, my_connect_timeout):\n",
    "    conn = None\n",
    "    try:\n",
    "        conn = pymysql.connect(\n",
    "            host=my_host,\n",
    "            user=my_user,\n",
    "            passwd=my_passwd,\n",
    "            database=my_database,\n",
    "            connect_timeout=my_connect_timeout,\n",
    "        )\n",
    "    except Exception as e:\n",
    "        print(e)\n",
    "    return conn"
   ]
  },
  {
   "cell_type": "code",
   "execution_count": 25,
   "metadata": {},
   "outputs": [],
   "source": [
    "# conn = get_mysql_conn(\n",
    "#     my_host=envs.get(\"db_host\"),\n",
    "#     my_user=envs.get(\"db_user\"),\n",
    "#     my_passwd=envs.get(\"db_password\"),\n",
    "#     my_database=envs.get(\"db_database\"),\n",
    "#     my_connect_timeout=envs.get(\"db_connect_timeout\"),\n",
    "# )\n",
    "\n",
    "conn = get_mysql_conn(\n",
    "    my_host=envs.get(\"db_host2\"),\n",
    "    my_user=envs.get(\"db_user2\"),\n",
    "    my_passwd=envs.get(\"db_password2\"),\n",
    "    my_database=envs.get(\"db_database2\"),\n",
    "    my_connect_timeout=envs.get(\"db_connect_timeout\"),\n",
    ")"
   ]
  },
  {
   "cell_type": "code",
   "execution_count": 28,
   "metadata": {},
   "outputs": [],
   "source": [
    "data_status = datetime.now().strftime(\"%Y%m%d\")\n",
    "sql = f\"UPDATE SOURCE_DATA_STATUS SET {file_name} = {data_status} WHERE BIZ_NO IN {sucess_li}\""
   ]
  },
  {
   "cell_type": "code",
   "execution_count": 29,
   "metadata": {},
   "outputs": [],
   "source": [
    "try : \n",
    "    cur = conn.cursor()\n",
    "    cur.execute(sql)\n",
    "    conn.commit()\n",
    "    cur.close()\n",
    "    conn.close()\n",
    "except : \n",
    "    pass"
   ]
  },
  {
   "cell_type": "code",
   "execution_count": null,
   "metadata": {},
   "outputs": [],
   "source": []
  }
 ],
 "metadata": {
  "kernelspec": {
   "display_name": "Python 3.8.13 ('crawl3')",
   "language": "python",
   "name": "python3"
  },
  "language_info": {
   "codemirror_mode": {
    "name": "ipython",
    "version": 3
   },
   "file_extension": ".py",
   "mimetype": "text/x-python",
   "name": "python",
   "nbconvert_exporter": "python",
   "pygments_lexer": "ipython3",
   "version": "3.10.11"
  },
  "orig_nbformat": 4,
  "vscode": {
   "interpreter": {
    "hash": "ae36f8e7cd39962888690e104335b3f16db77a09743b9c4bc2f4f1f9d5264684"
   }
  }
 },
 "nbformat": 4,
 "nbformat_minor": 2
}
