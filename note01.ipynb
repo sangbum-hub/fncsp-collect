{
 "cells": [
  {
   "cell_type": "code",
   "execution_count": 53,
   "metadata": {},
   "outputs": [],
   "source": [
    "import pymysql\n",
    "from datetime import datetime\n",
    "from elasticsearch import Elasticsearch\n",
    "from tqdm.notebook import tqdm\n",
    "import json"
   ]
  },
  {
   "cell_type": "code",
   "execution_count": 54,
   "metadata": {},
   "outputs": [],
   "source": [
    "def get_json(path):\n",
    "    with open(path,\"r\",encoding=\"utf8\") as f:\n",
    "        text = f.read()\n",
    "    text = text[2:]\n",
    "    text = f\"[{text}]\"\n",
    "    datas = json.loads(text)\n",
    "    return datas"
   ]
  },
  {
   "cell_type": "code",
   "execution_count": 55,
   "metadata": {},
   "outputs": [],
   "source": [
    "# datas = get_json(\"./data_files/20230918/kisti_patent_0.json\")\n",
    "# datas = get_json(\"./data_files/20231023/jobplanet_0.json\")\n",
    "datas = get_json(\"./data_files/20231031/naver_news_0.json\")"
   ]
  },
  {
   "cell_type": "code",
   "execution_count": 56,
   "metadata": {},
   "outputs": [],
   "source": [
    "datas = list(filter(lambda o: o is not None, datas))"
   ]
  },
  {
   "cell_type": "code",
   "execution_count": 57,
   "metadata": {},
   "outputs": [],
   "source": [
    "with open(\"./envs.json\",\"r\",encoding=\"utf8\") as f:\n",
    "    envs = json.load(f)"
   ]
  },
  {
   "attachments": {},
   "cell_type": "markdown",
   "metadata": {},
   "source": [
    "# connect ES"
   ]
  },
  {
   "cell_type": "code",
   "execution_count": 58,
   "metadata": {},
   "outputs": [],
   "source": [
    "es = Elasticsearch(\n",
    "    hosts=envs['es_host'],\n",
    "    port=envs['es_port'],\n",
    "    http_auth=(envs['es_user'],envs['es_password']),\n",
    "    timeout=envs['es_timeout'],\n",
    "    max_retries=envs['es_max_retries']\n",
    ")"
   ]
  },
  {
   "cell_type": "code",
   "execution_count": 59,
   "metadata": {},
   "outputs": [],
   "source": [
    "err_list = []\n",
    "sucess_li = []\n",
    "n = 0"
   ]
  },
  {
   "cell_type": "code",
   "execution_count": 60,
   "metadata": {},
   "outputs": [
    {
     "data": {
      "application/vnd.jupyter.widget-view+json": {
       "model_id": "60c66dffd8874178b78eb31c19d4f0b5",
       "version_major": 2,
       "version_minor": 0
      },
      "text/plain": [
       "엘라스틱 적재중:   0%|          | 0/323 [00:00<?, ?it/s]"
      ]
     },
     "metadata": {},
     "output_type": "display_data"
    }
   ],
   "source": [
    "for data in tqdm(datas, desc=\"엘라스틱 적재중\"):\n",
    "    try:\n",
    "        es.index(index=\"source_data\", document=data)\n",
    "        sucess_li.append(data['BusinessNum'])\n",
    "    except Exception as e:\n",
    "        err_list.append((data, e))"
   ]
  },
  {
   "cell_type": "code",
   "execution_count": 61,
   "metadata": {},
   "outputs": [
    {
     "data": {
      "text/plain": [
       "0"
      ]
     },
     "execution_count": 61,
     "metadata": {},
     "output_type": "execute_result"
    }
   ],
   "source": [
    "len(err_list)"
   ]
  },
  {
   "cell_type": "code",
   "execution_count": 62,
   "metadata": {},
   "outputs": [
    {
     "data": {
      "text/plain": [
       "{'took': 3,\n",
       " 'timed_out': False,\n",
       " '_shards': {'total': 6, 'successful': 6, 'skipped': 0, 'failed': 0},\n",
       " 'hits': {'total': {'value': 119851, 'relation': 'eq'},\n",
       "  'max_score': None,\n",
       "  'hits': []}}"
      ]
     },
     "execution_count": 62,
     "metadata": {},
     "output_type": "execute_result"
    }
   ],
   "source": [
    "es.search(\n",
    "    index=\"source_data\",\n",
    "    size=0,\n",
    "    query={\n",
    "        \"bool\":{\n",
    "            \"must\":[\n",
    "                {\"match\":{\"DataType\":\"naver_trend\"}}\n",
    "            ],\n",
    "            \"filter\":[\n",
    "                {\"range\":{\"SearchDate\":{\"gte\":\"2023-04-01\",\"format\":\"yyyy-MM-dd\"}}}\n",
    "            ]\n",
    "        }\n",
    "    },\n",
    "    track_total_hits=True\n",
    ")"
   ]
  },
  {
   "cell_type": "code",
   "execution_count": 63,
   "metadata": {},
   "outputs": [
    {
     "data": {
      "text/plain": [
       "(1048137225,\n",
       " 1058767627,\n",
       " 2648136208,\n",
       " 5598700560,\n",
       " 1198145940,\n",
       " 1058779797,\n",
       " 2148889878,\n",
       " 2208145181,\n",
       " 1178129702,\n",
       " 1728800680,\n",
       " 3148637230,\n",
       " 3978700206,\n",
       " 2208115635,\n",
       " 1068177204,\n",
       " 1968600116,\n",
       " 5028180149,\n",
       " 8998700212,\n",
       " 5058152701,\n",
       " 1448106429,\n",
       " 1318180286,\n",
       " 7758101311,\n",
       " 2208113603,\n",
       " 2118886469,\n",
       " 6758600133,\n",
       " 5048162507,\n",
       " 1188122060,\n",
       " 1058793294,\n",
       " 2018157518,\n",
       " 1118128082,\n",
       " 5688601173,\n",
       " 2158693463,\n",
       " 2148888281,\n",
       " 1208602330,\n",
       " 1058748635,\n",
       " 1058782685,\n",
       " 5348800350,\n",
       " 1058744546,\n",
       " 1028140272,\n",
       " 3128103025,\n",
       " 1058779900,\n",
       " 1388148477,\n",
       " 6208600318)"
      ]
     },
     "execution_count": 63,
     "metadata": {},
     "output_type": "execute_result"
    }
   ],
   "source": [
    "# sucess_li_str = \", \".join([f\"'{item}'\" for item in sucess_li])    # 리스트 데이터를 string형식으로 변환\n",
    "sucess_li = tuple(set(int(item) for item in sucess_li)) # set으로 중복값 제거 후 리스트 튜플로 변환\n",
    "sucess_li"
   ]
  },
  {
   "cell_type": "markdown",
   "metadata": {},
   "source": [
    "# connect mysql"
   ]
  },
  {
   "cell_type": "code",
   "execution_count": 64,
   "metadata": {},
   "outputs": [],
   "source": [
    "# file_name = 'jobplanet_statistic'\n",
    "# file_name = 'jobplanet_review'\n",
    "# file_name = 'jobplanet_premium'\n",
    "\n",
    "file_name = datas[0]['DataType']"
   ]
  },
  {
   "cell_type": "code",
   "execution_count": 65,
   "metadata": {},
   "outputs": [],
   "source": [
    "def get_mysql_conn(my_host, my_user, my_passwd, my_database, my_connect_timeout):\n",
    "    conn = None\n",
    "    try:\n",
    "        conn = pymysql.connect(\n",
    "            host=my_host,\n",
    "            user=my_user,\n",
    "            passwd=my_passwd,\n",
    "            database=my_database,\n",
    "            connect_timeout=my_connect_timeout,\n",
    "        )\n",
    "    except Exception as e:\n",
    "        print(e)\n",
    "    return conn"
   ]
  },
  {
   "cell_type": "code",
   "execution_count": 66,
   "metadata": {},
   "outputs": [],
   "source": [
    "# conn = get_mysql_conn(\n",
    "#     my_host=envs.get(\"db_host\"),\n",
    "#     my_user=envs.get(\"db_user\"),\n",
    "#     my_passwd=envs.get(\"db_password\"),\n",
    "#     my_database=envs.get(\"db_database\"),\n",
    "#     my_connect_timeout=envs.get(\"db_connect_timeout\"),\n",
    "# )\n",
    "\n",
    "conn = get_mysql_conn(\n",
    "    my_host=envs.get(\"db_host2\"),\n",
    "    my_user=envs.get(\"db_user2\"),\n",
    "    my_passwd=envs.get(\"db_password2\"),\n",
    "    my_database=envs.get(\"db_database2\"),\n",
    "    my_connect_timeout=envs.get(\"db_connect_timeout\"),\n",
    ")"
   ]
  },
  {
   "cell_type": "code",
   "execution_count": 67,
   "metadata": {},
   "outputs": [],
   "source": [
    "data_status = datetime.now().strftime(\"%Y%m%d\")\n",
    "sql = f\"UPDATE SOURCE_DATA_STATUS SET {file_name} = {data_status} WHERE BIZ_NO IN {sucess_li}\""
   ]
  },
  {
   "cell_type": "code",
   "execution_count": 68,
   "metadata": {},
   "outputs": [],
   "source": [
    "try : \n",
    "    cur = conn.cursor()\n",
    "    cur.execute(sql)\n",
    "    conn.commit()\n",
    "    cur.close()\n",
    "    conn.close()\n",
    "except : \n",
    "    pass"
   ]
  },
  {
   "cell_type": "code",
   "execution_count": null,
   "metadata": {},
   "outputs": [],
   "source": []
  }
 ],
 "metadata": {
  "kernelspec": {
   "display_name": "Python 3.8.13 ('crawl3')",
   "language": "python",
   "name": "python3"
  },
  "language_info": {
   "codemirror_mode": {
    "name": "ipython",
    "version": 3
   },
   "file_extension": ".py",
   "mimetype": "text/x-python",
   "name": "python",
   "nbconvert_exporter": "python",
   "pygments_lexer": "ipython3",
   "version": "3.10.11"
  },
  "orig_nbformat": 4,
  "vscode": {
   "interpreter": {
    "hash": "ae36f8e7cd39962888690e104335b3f16db77a09743b9c4bc2f4f1f9d5264684"
   }
  }
 },
 "nbformat": 4,
 "nbformat_minor": 2
}
